{
 "cells": [
  {
   "cell_type": "code",
   "execution_count": null,
   "id": "0",
   "metadata": {},
   "outputs": [],
   "source": [
    "from miterand.interpreter import interpret"
   ]
  },
  {
   "cell_type": "code",
   "execution_count": null,
   "id": "1",
   "metadata": {},
   "outputs": [],
   "source": [
    "code = 'f := Lx.(x + 1)\\ng := Lx.(x + 2)\\ng(f(1))'\n",
    "print(interpret(code))"
   ]
  },
  {
   "cell_type": "code",
   "execution_count": null,
   "id": "2",
   "metadata": {},
   "outputs": [],
   "source": [
    "#add(x)(y)\n",
    "code = '''\n",
    "add := Lx.Ly.(x + y)\n",
    "add(1)(add(2)(3))\n",
    "'''\n",
    "print(interpret(code))\n"
   ]
  },
  {
   "cell_type": "code",
   "execution_count": null,
   "id": "3",
   "metadata": {},
   "outputs": [],
   "source": [
    "code = '''\n",
    "TRUE := Lx.Ly.x\n",
    "FALSE := Lx.Ly.y\n",
    "IF := Lc.La.Lb.(c a b)\n",
    "IF TRUE 1 2\n",
    "IF FALSE 1 2\n",
    "'''\n",
    "print(interpret(code))"
   ]
  },
  {
   "cell_type": "code",
   "execution_count": null,
   "id": "4",
   "metadata": {},
   "outputs": [],
   "source": [
    "code = '''\n",
    "TRUE := Lx.Ly.x\n",
    "FALSE := Lx.Ly.y\n",
    "IF := Lc.La.Lb.(c a b)\n",
    "IF TRUE 1 2\n",
    "'''\n",
    "print(interpret(code))"
   ]
  },
  {
   "cell_type": "code",
   "execution_count": null,
   "id": "5",
   "metadata": {},
   "outputs": [],
   "source": []
  },
  {
   "cell_type": "code",
   "execution_count": null,
   "id": "6",
   "metadata": {},
   "outputs": [],
   "source": []
  }
 ],
 "metadata": {
  "kernelspec": {
   "display_name": "Python 3 (ipykernel)",
   "language": "python",
   "name": "python3"
  },
  "language_info": {
   "codemirror_mode": {
    "name": "ipython",
    "version": 3
   },
   "file_extension": ".py",
   "mimetype": "text/x-python",
   "name": "python",
   "nbconvert_exporter": "python",
   "pygments_lexer": "ipython3",
   "version": "3.12.2"
  }
 },
 "nbformat": 4,
 "nbformat_minor": 5
}
