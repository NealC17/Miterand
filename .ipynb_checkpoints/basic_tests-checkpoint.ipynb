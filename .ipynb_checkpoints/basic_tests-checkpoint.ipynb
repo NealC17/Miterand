{
 "cells": [
  {
   "cell_type": "code",
   "execution_count": 3,
   "id": "9598c549-1b1f-4402-8900-5fbe5ff3859c",
   "metadata": {},
   "outputs": [],
   "source": [
    "import numpy as np \n",
    "import pandas as pd \n",
    "from tokenizer import tokenize"
   ]
  },
  {
   "cell_type": "code",
   "execution_count": 4,
   "id": "ea673001-8477-4aa7-b534-0162690ad6e0",
   "metadata": {},
   "outputs": [],
   "source": [
    "#this string should correspond to f = lambda x: x+1\n",
    "basic = 'f := Lx.(x+1)'    "
   ]
  },
  {
   "cell_type": "code",
   "execution_count": 9,
   "id": "0979f937-767e-41f0-8223-94b2813efedd",
   "metadata": {},
   "outputs": [],
   "source": [
    "code = 'f := Lx.(x + 1)'\n",
    "\n",
    "tokens = tokenize(code)"
   ]
  },
  {
   "cell_type": "code",
   "execution_count": 10,
   "id": "ef450dd4-423d-4ed6-9c8f-696bdc767c69",
   "metadata": {},
   "outputs": [
    {
     "data": {
      "text/plain": [
       "[('IDENT', 'f'),\n",
       " ('ASSIGN', ':='),\n",
       " ('LAMBDA', 'L'),\n",
       " ('IDENT', 'x'),\n",
       " ('DOT', '.'),\n",
       " ('LPAREN', '('),\n",
       " ('IDENT', 'x'),\n",
       " ('NUMBER', '1'),\n",
       " ('RPAREN', ')')]"
      ]
     },
     "execution_count": 10,
     "metadata": {},
     "output_type": "execute_result"
    }
   ],
   "source": [
    "tokens"
   ]
  },
  {
   "cell_type": "code",
   "execution_count": 11,
   "id": "eb169b10-4f1c-41d0-a368-1d9c54a57596",
   "metadata": {},
   "outputs": [
    {
     "name": "stdout",
     "output_type": "stream",
     "text": [
      "3\n"
     ]
    }
   ],
   "source": [
    "# Church numerals\n",
    "zero = lambda f: lambda x: x\n",
    "one  = lambda f: lambda x: f(x)\n",
    "two  = lambda f: lambda x: f(f(x))\n",
    "\n",
    "# Successor\n",
    "succ = lambda n: lambda f: lambda x: f(n(f)(x))\n",
    "\n",
    "# Convert Church numeral back to Python int\n",
    "to_int = lambda church: church(lambda x: x + 1)(0)\n",
    "\n",
    "print(to_int(succ(two)))  # Output: 3\n"
   ]
  },
  {
   "cell_type": "code",
   "execution_count": 12,
   "id": "ef82311e-5ee4-40fd-9022-fe9ae2058efd",
   "metadata": {},
   "outputs": [
    {
     "data": {
      "text/plain": [
       "<function __main__.<lambda>.<locals>.<lambda>(x)>"
      ]
     },
     "execution_count": 12,
     "metadata": {},
     "output_type": "execute_result"
    }
   ],
   "source": [
    "one(1)"
   ]
  },
  {
   "cell_type": "code",
   "execution_count": null,
   "id": "f3ed4017-b1de-4e27-b7e7-dd4904dc30ef",
   "metadata": {},
   "outputs": [],
   "source": []
  }
 ],
 "metadata": {
  "kernelspec": {
   "display_name": "Python 3 (ipykernel)",
   "language": "python",
   "name": "python3"
  },
  "language_info": {
   "codemirror_mode": {
    "name": "ipython",
    "version": 3
   },
   "file_extension": ".py",
   "mimetype": "text/x-python",
   "name": "python",
   "nbconvert_exporter": "python",
   "pygments_lexer": "ipython3",
   "version": "3.12.2"
  }
 },
 "nbformat": 4,
 "nbformat_minor": 5
}
