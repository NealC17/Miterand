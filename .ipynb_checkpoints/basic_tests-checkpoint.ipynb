{
 "cells": [
  {
   "cell_type": "code",
   "execution_count": 1,
   "id": "29bc917f-b6cc-48b4-bdce-e135b178714b",
   "metadata": {
    "ExecuteTime": {
     "end_time": "2025-04-28T02:43:51.099904Z",
     "start_time": "2025-04-28T02:43:51.095772Z"
    }
   },
   "outputs": [],
   "source": [
    "from parser import Parser\n",
    "from tokenizer import Tokenize\n",
    "from generator import Generate\n"
   ]
  },
  {
   "cell_type": "code",
   "execution_count": 2,
   "id": "9c373493-66d1-4120-a5ca-aede96bece9c",
   "metadata": {
    "ExecuteTime": {
     "end_time": "2025-04-28T02:43:51.129959Z",
     "start_time": "2025-04-28T02:43:51.127134Z"
    }
   },
   "outputs": [
    {
     "name": "stdout",
     "output_type": "stream",
     "text": [
      "g = lambda x: (x + 2)\n"
     ]
    }
   ],
   "source": [
    "code = 'g := Lx.(x + 2)'\n",
    "\n",
    "tokens = Tokenize(code)\n",
    "parser = Parser(tokens)\n",
    "ast = parser.parse()\n",
    "py_code = Generate(ast)\n",
    "\n",
    "print(py_code)  # Output: f = lambda x: x + 1"
   ]
  },
  {
   "cell_type": "code",
   "execution_count": 3,
   "id": "590570c8-9bf0-4773-8439-bcf9619002d5",
   "metadata": {
    "ExecuteTime": {
     "end_time": "2025-04-28T02:43:51.194671Z",
     "start_time": "2025-04-28T02:43:51.192524Z"
    }
   },
   "outputs": [
    {
     "name": "stdout",
     "output_type": "stream",
     "text": [
      "f = lambda x: (x + 1)\n",
      "g = lambda x: (x + 2)\n"
     ]
    }
   ],
   "source": [
    "code = 'f := Lx.(x + 1)\\ng := Lx.(x + 2)'\n",
    "def interpret(code):\n",
    "    \n",
    "    for e in code.split('\\n'):\n",
    "        tokens = Tokenize(e)\n",
    "        parser = Parser(tokens)\n",
    "        ast = parser.parse()\n",
    "        py_code = Generate(ast)\n",
    "        \n",
    "        print(py_code) \n",
    "\n",
    "interpret(code)"
   ]
  },
  {
   "cell_type": "code",
   "execution_count": 4,
   "id": "b93e7c23-e7ec-4145-8b53-fbaa65ba70ba",
   "metadata": {
    "ExecuteTime": {
     "end_time": "2025-04-28T02:43:51.208925Z",
     "start_time": "2025-04-28T02:43:51.205775Z"
    }
   },
   "outputs": [
    {
     "data": {
      "text/plain": [
       "'>>> >>> '"
      ]
     },
     "execution_count": 4,
     "metadata": {},
     "output_type": "execute_result"
    }
   ],
   "source": [
    "from interpreter import interpret\n",
    "\n",
    "interpret(code)"
   ]
  },
  {
   "cell_type": "code",
   "execution_count": 5,
   "id": "042ed807-8851-42ec-9537-0dc232b61d72",
   "metadata": {
    "ExecuteTime": {
     "end_time": "2025-04-28T02:44:51.917696Z",
     "start_time": "2025-04-28T02:44:51.871223Z"
    }
   },
   "outputs": [
    {
     "name": "stdout",
     "output_type": "stream",
     "text": [
      "RAW output from subprocess:\n",
      " 246\n",
      ">>> \n"
     ]
    }
   ],
   "source": [
    "from python_repl import PythonREPL\n",
    "\n",
    "# === example usage ===\n",
    "repl = PythonREPL()\n",
    "out1 = repl.run(\"x = 123\")               # no visible output, just sync\n",
    "out2 = repl.run(\"print(x * 2)\")\n",
    "print(\"RAW output from subprocess:\\n\", out2)\n",
    "repl.close()\n"
   ]
  },
  {
   "cell_type": "code",
   "execution_count": 6,
   "id": "e9a62c2667545a19",
   "metadata": {
    "ExecuteTime": {
     "end_time": "2025-04-28T02:43:51.361729Z",
     "start_time": "2025-04-28T02:43:51.360212Z"
    }
   },
   "outputs": [
    {
     "data": {
      "text/plain": [
       "'>>> >>> 4\\n>>> '"
      ]
     },
     "execution_count": 6,
     "metadata": {},
     "output_type": "execute_result"
    }
   ],
   "source": [
    "code = 'f := Lx.(x + 1)\\ng := Lx.(x + 2)\\ng(f(1))'\n",
    "interpret(code)"
   ]
  },
  {
   "cell_type": "code",
   "execution_count": 7,
   "id": "3948b6f0-641a-4c02-a8a9-8a7f988f25b8",
   "metadata": {},
   "outputs": [
    {
     "name": "stdout",
     "output_type": "stream",
     "text": [
      ">>> >>>   File \"<stdin>\", line 1\n",
      "    if = lambda c: lambda a: lambda b: c(a)(b)\n",
      "       ^\n",
      "SyntaxError: invalid syntax\n",
      ">>>   File \"<stdin>\", line 1\n",
      "    if(true)(1)(2)\n",
      "                  ^\n",
      "SyntaxError: expected ':'\n",
      ">>> \n"
     ]
    }
   ],
   "source": [
    "code = '''\n",
    "true := Lx.Ly.x\\n\n",
    "false := Lx.Ly.y\\n\n",
    "if := Lc.La.Lb.(c a b)\\n\n",
    "if true 1 2\n",
    "'''\n",
    "print(interpret(code))"
   ]
  },
  {
   "cell_type": "code",
   "execution_count": 8,
   "id": "278bada7-feaf-44bf-8a07-5f03dfd283e5",
   "metadata": {},
   "outputs": [
    {
     "name": "stdout",
     "output_type": "stream",
     "text": [
      ">>> 6\n",
      ">>> \n"
     ]
    }
   ],
   "source": [
    "code = '''\n",
    "add := Lx.Ly.(x + y)\n",
    "add(1)(add(2)(3))\n",
    "'''\n",
    "print(interpret(code))\n"
   ]
  },
  {
   "cell_type": "code",
   "execution_count": null,
   "id": "e36edb75-8178-498c-b925-2087808c6788",
   "metadata": {},
   "outputs": [],
   "source": []
  }
 ],
 "metadata": {
  "kernelspec": {
   "display_name": "Python 3 (ipykernel)",
   "language": "python",
   "name": "python3"
  },
  "language_info": {
   "codemirror_mode": {
    "name": "ipython",
    "version": 3
   },
   "file_extension": ".py",
   "mimetype": "text/x-python",
   "name": "python",
   "nbconvert_exporter": "python",
   "pygments_lexer": "ipython3",
   "version": "3.12.2"
  }
 },
 "nbformat": 4,
 "nbformat_minor": 5
}
