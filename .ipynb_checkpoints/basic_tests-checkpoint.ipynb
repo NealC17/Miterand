{
 "cells": [
  {
   "cell_type": "code",
   "execution_count": 4,
   "id": "29bc917f-b6cc-48b4-bdce-e135b178714b",
   "metadata": {},
   "outputs": [],
   "source": [
    "from parser import Parser\n",
    "from tokenizer import Tokenize\n",
    "from generator import Generate\n"
   ]
  },
  {
   "cell_type": "code",
   "execution_count": 15,
   "id": "9c373493-66d1-4120-a5ca-aede96bece9c",
   "metadata": {},
   "outputs": [
    {
     "name": "stdout",
     "output_type": "stream",
     "text": [
      "g = lambda x: x + 2\n"
     ]
    }
   ],
   "source": [
    "code = 'g := Lx.(x + 2)'\n",
    "\n",
    "tokens = Tokenize(code)\n",
    "parser = Parser(tokens)\n",
    "ast = parser.parse()\n",
    "py_code = Generate(ast)\n",
    "\n",
    "print(py_code)  # Output: f = lambda x: x + 1"
   ]
  },
  {
   "cell_type": "code",
   "execution_count": 17,
   "id": "590570c8-9bf0-4773-8439-bcf9619002d5",
   "metadata": {},
   "outputs": [
    {
     "name": "stdout",
     "output_type": "stream",
     "text": [
      "f = lambda x: x + 1\n",
      "g = lambda x: x + 2\n"
     ]
    }
   ],
   "source": [
    "code = 'f := Lx.(x + 1)\\ng := Lx.(x + 2)'\n",
    "def interpret(code):\n",
    "    \n",
    "    for e in code.split('\\n'):\n",
    "        tokens = Tokenize(e)\n",
    "        parser = Parser(tokens)\n",
    "        ast = parser.parse()\n",
    "        py_code = Generate(ast)\n",
    "        \n",
    "        print(py_code) \n",
    "\n",
    "interpret(code)"
   ]
  },
  {
   "cell_type": "code",
   "execution_count": 18,
   "id": "b93e7c23-e7ec-4145-8b53-fbaa65ba70ba",
   "metadata": {},
   "outputs": [
    {
     "data": {
      "text/plain": [
       "'f = lambda x: x + 1g = lambda x: x + 2'"
      ]
     },
     "execution_count": 18,
     "metadata": {},
     "output_type": "execute_result"
    }
   ],
   "source": [
    "from interpreter import interpret\n",
    "\n",
    "interpret(code)"
   ]
  },
  {
   "cell_type": "code",
   "execution_count": null,
   "id": "042ed807-8851-42ec-9537-0dc232b61d72",
   "metadata": {},
   "outputs": [],
   "source": []
  }
 ],
 "metadata": {
  "kernelspec": {
   "display_name": "Python 3 (ipykernel)",
   "language": "python",
   "name": "python3"
  },
  "language_info": {
   "codemirror_mode": {
    "name": "ipython",
    "version": 3
   },
   "file_extension": ".py",
   "mimetype": "text/x-python",
   "name": "python",
   "nbconvert_exporter": "python",
   "pygments_lexer": "ipython3",
   "version": "3.12.2"
  }
 },
 "nbformat": 4,
 "nbformat_minor": 5
}
