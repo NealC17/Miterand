{
 "cells": [
  {
   "cell_type": "code",
   "id": "29bc917f-b6cc-48b4-bdce-e135b178714b",
   "metadata": {
    "ExecuteTime": {
     "end_time": "2025-04-28T02:43:51.099904Z",
     "start_time": "2025-04-28T02:43:51.095772Z"
    }
   },
   "source": [
    "from parser import Parser\n",
    "from tokenizer import Tokenize\n",
    "from generator import Generate\n"
   ],
   "outputs": [],
   "execution_count": 1
  },
  {
   "cell_type": "code",
   "id": "9c373493-66d1-4120-a5ca-aede96bece9c",
   "metadata": {
    "ExecuteTime": {
     "end_time": "2025-04-28T02:43:51.129959Z",
     "start_time": "2025-04-28T02:43:51.127134Z"
    }
   },
   "source": [
    "code = 'g := Lx.(x + 2)'\n",
    "\n",
    "tokens = Tokenize(code)\n",
    "parser = Parser(tokens)\n",
    "ast = parser.parse()\n",
    "py_code = Generate(ast)\n",
    "\n",
    "print(py_code)  # Output: f = lambda x: x + 1"
   ],
   "outputs": [
    {
     "name": "stdout",
     "output_type": "stream",
     "text": [
      "g = lambda x: x + 2\n"
     ]
    }
   ],
   "execution_count": 2
  },
  {
   "cell_type": "code",
   "id": "590570c8-9bf0-4773-8439-bcf9619002d5",
   "metadata": {
    "ExecuteTime": {
     "end_time": "2025-04-28T02:43:51.194671Z",
     "start_time": "2025-04-28T02:43:51.192524Z"
    }
   },
   "source": [
    "code = 'f := Lx.(x + 1)\\ng := Lx.(x + 2)'\n",
    "def interpret(code):\n",
    "    \n",
    "    for e in code.split('\\n'):\n",
    "        tokens = Tokenize(e)\n",
    "        parser = Parser(tokens)\n",
    "        ast = parser.parse()\n",
    "        py_code = Generate(ast)\n",
    "        \n",
    "        print(py_code) \n",
    "\n",
    "interpret(code)"
   ],
   "outputs": [
    {
     "name": "stdout",
     "output_type": "stream",
     "text": [
      "f = lambda x: x + 1\n",
      "g = lambda x: x + 2\n"
     ]
    }
   ],
   "execution_count": 3
  },
  {
   "cell_type": "code",
   "id": "b93e7c23-e7ec-4145-8b53-fbaa65ba70ba",
   "metadata": {
    "ExecuteTime": {
     "end_time": "2025-04-28T02:43:51.208925Z",
     "start_time": "2025-04-28T02:43:51.205775Z"
    }
   },
   "source": [
    "from interpreter import interpret\n",
    "\n",
    "interpret(code)"
   ],
   "outputs": [
    {
     "data": {
      "text/plain": [
       "'f = lambda x: x + 1\\ng = lambda x: x + 2\\n'"
      ]
     },
     "execution_count": 4,
     "metadata": {},
     "output_type": "execute_result"
    }
   ],
   "execution_count": 4
  },
  {
   "cell_type": "code",
   "id": "042ed807-8851-42ec-9537-0dc232b61d72",
   "metadata": {
    "ExecuteTime": {
     "end_time": "2025-04-28T02:43:51.315235Z",
     "start_time": "2025-04-28T02:43:51.270579Z"
    }
   },
   "source": [
    "import subprocess\n",
    "import sys\n",
    "import threading\n",
    "\n",
    "class PythonREPL:\n",
    "    def __init__(self, python_cmd=None, prompt=\">>> \"):\n",
    "        \"\"\"\n",
    "        Spawn a fresh, un-buffered, interactive Python subprocess\n",
    "        and sync up until its first prompt.\n",
    "        \"\"\"\n",
    "        python_cmd = python_cmd or [sys.executable, \"-u\", \"-i\"]\n",
    "        self.prompt = prompt\n",
    "        self.proc = subprocess.Popen(\n",
    "            python_cmd,\n",
    "            stdin=subprocess.PIPE,\n",
    "            stdout=subprocess.PIPE,\n",
    "            stderr=subprocess.STDOUT,\n",
    "            text=True,\n",
    "            bufsize=1,            # line-buffered\n",
    "        )\n",
    "        # drain the initial banner up to the first '>>> '\n",
    "        self._read_until(self.prompt)\n",
    "\n",
    "    def _read_until(self, marker):\n",
    "        \"\"\"\n",
    "        Read from self.proc.stdout until the output ends with `marker`.\n",
    "        Returns everything read (including the marker).\n",
    "        \"\"\"\n",
    "        buf = \"\"\n",
    "        while not buf.endswith(marker):\n",
    "            chunk = self.proc.stdout.read(1)\n",
    "            if chunk == \"\":\n",
    "                # EOF\n",
    "                break\n",
    "            buf += chunk\n",
    "        return buf\n",
    "\n",
    "    def run(self, code):\n",
    "        \"\"\"\n",
    "        Send a chunk of code (one line or many), then read back\n",
    "        everything up to the next prompt.\n",
    "        Returns the full raw text (including the trailing prompt).\n",
    "        \"\"\"\n",
    "        if not code.endswith(\"\\n\"):\n",
    "            code = code + \"\\n\"\n",
    "        self.proc.stdin.write(code)\n",
    "        self.proc.stdin.flush()\n",
    "        return self._read_until(self.prompt)\n",
    "\n",
    "    def close(self):\n",
    "        \"\"\"Terminate the subprocess.\"\"\"\n",
    "        self.proc.terminate()\n",
    "        self.proc.wait()\n",
    "\n",
    "\n",
    "# === example usage ===\n",
    "repl = PythonREPL()\n",
    "out1 = repl.run(\"x = 123\")               # no visible output, just sync\n",
    "out2 = repl.run(\"print(x * 2)\")\n",
    "print(\"RAW output from subprocess:\\n\", out2)\n",
    "repl.close()\n"
   ],
   "outputs": [
    {
     "name": "stdout",
     "output_type": "stream",
     "text": [
      "RAW output from subprocess:\n",
      " 246\n",
      ">>> \n"
     ]
    }
   ],
   "execution_count": 5
  },
  {
   "metadata": {
    "ExecuteTime": {
     "end_time": "2025-04-28T02:43:51.361729Z",
     "start_time": "2025-04-28T02:43:51.360212Z"
    }
   },
   "cell_type": "code",
   "source": "",
   "id": "e9a62c2667545a19",
   "outputs": [],
   "execution_count": null
  }
 ],
 "metadata": {
  "kernelspec": {
   "display_name": "Python 3 (ipykernel)",
   "language": "python",
   "name": "python3"
  },
  "language_info": {
   "codemirror_mode": {
    "name": "ipython",
    "version": 3
   },
   "file_extension": ".py",
   "mimetype": "text/x-python",
   "name": "python",
   "nbconvert_exporter": "python",
   "pygments_lexer": "ipython3",
   "version": "3.12.2"
  }
 },
 "nbformat": 4,
 "nbformat_minor": 5
}
