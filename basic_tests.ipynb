{
 "cells": [
  {
   "cell_type": "code",
   "id": "29bc917f-b6cc-48b4-bdce-e135b178714b",
   "metadata": {
    "ExecuteTime": {
     "end_time": "2025-04-28T16:21:11.596876Z",
     "start_time": "2025-04-28T16:21:11.593226Z"
    }
   },
   "source": [
    "from interpreter import interpret"
   ],
   "outputs": [],
   "execution_count": 1
  },
  {
   "cell_type": "code",
   "id": "e9a62c2667545a19",
   "metadata": {
    "ExecuteTime": {
     "end_time": "2025-04-28T16:21:11.642331Z",
     "start_time": "2025-04-28T16:21:11.600818Z"
    }
   },
   "source": [
    "code = 'f := Lx.(x + 1)\\ng := Lx.(x + 2)\\ng(f(1))'\n",
    "interpret(code)"
   ],
   "outputs": [
    {
     "data": {
      "text/plain": [
       "'>>>\\n>>> 4\\n>>> '"
      ]
     },
     "execution_count": 2,
     "metadata": {},
     "output_type": "execute_result"
    }
   ],
   "execution_count": 2
  },
  {
   "cell_type": "code",
   "id": "278bada7-feaf-44bf-8a07-5f03dfd283e5",
   "metadata": {
    "ExecuteTime": {
     "end_time": "2025-04-28T16:21:11.735304Z",
     "start_time": "2025-04-28T16:21:11.703355Z"
    }
   },
   "source": [
    "#add(x)(y)\n",
    "code = '''\n",
    "add := Lx.Ly.(x + y)\n",
    "add(1)(add(2)(3))\n",
    "'''\n",
    "print(interpret(code))\n"
   ],
   "outputs": [
    {
     "name": "stdout",
     "output_type": "stream",
     "text": [
      ">>> 6\n",
      ">>> \n"
     ]
    }
   ],
   "execution_count": 3
  },
  {
   "cell_type": "code",
   "id": "3948b6f0-641a-4c02-a8a9-8a7f988f25b8",
   "metadata": {
    "ExecuteTime": {
     "end_time": "2025-04-28T16:21:11.776826Z",
     "start_time": "2025-04-28T16:21:11.745036Z"
    }
   },
   "source": [
    "code = '''\n",
    "TRUE := Lx.Ly.x\n",
    "FALSE := Lx.Ly.y\n",
    "IF := Lc.La.Lb.(c a b)\n",
    "IF TRUE 1 2\n",
    "IF FALSE 1 2\n",
    "'''\n",
    "print(interpret(code))"
   ],
   "outputs": [
    {
     "name": "stdout",
     "output_type": "stream",
     "text": [
      ">>>\n",
      ">>>\n",
      ">>> 1\n",
      ">>> 2\n",
      ">>> \n"
     ]
    }
   ],
   "execution_count": 4
  },
  {
   "cell_type": "code",
   "id": "1ca60665-38c7-445e-8d0a-7e3c7eacaca3",
   "metadata": {
    "ExecuteTime": {
     "end_time": "2025-04-28T16:21:11.819225Z",
     "start_time": "2025-04-28T16:21:11.786445Z"
    }
   },
   "source": [
    "code = '''\n",
    "TRUE := Lx.Ly.x\n",
    "FALSE := Lx.Ly.y\n",
    "IF := Lc.La.Lb.(c a b)\n",
    "IF TRUE 1 2\n",
    "'''\n",
    "print(interpret(code))"
   ],
   "outputs": [
    {
     "name": "stdout",
     "output_type": "stream",
     "text": [
      ">>>\n",
      ">>>\n",
      ">>> 1\n",
      ">>> \n"
     ]
    }
   ],
   "execution_count": 5
  },
  {
   "cell_type": "code",
   "id": "e36edb75-8178-498c-b925-2087808c6788",
   "metadata": {
    "ExecuteTime": {
     "end_time": "2025-04-28T16:21:11.828098Z",
     "start_time": "2025-04-28T16:21:11.826833Z"
    }
   },
   "source": [],
   "outputs": [],
   "execution_count": null
  },
  {
   "cell_type": "code",
   "id": "0de4a0be-18a9-40e7-a598-5490b8bb58d9",
   "metadata": {
    "ExecuteTime": {
     "end_time": "2025-04-28T16:21:11.834224Z",
     "start_time": "2025-04-28T16:21:11.832995Z"
    }
   },
   "source": [],
   "outputs": [],
   "execution_count": null
  }
 ],
 "metadata": {
  "kernelspec": {
   "display_name": "Python 3 (ipykernel)",
   "language": "python",
   "name": "python3"
  },
  "language_info": {
   "codemirror_mode": {
    "name": "ipython",
    "version": 3
   },
   "file_extension": ".py",
   "mimetype": "text/x-python",
   "name": "python",
   "nbconvert_exporter": "python",
   "pygments_lexer": "ipython3",
   "version": "3.12.2"
  }
 },
 "nbformat": 4,
 "nbformat_minor": 5
}
