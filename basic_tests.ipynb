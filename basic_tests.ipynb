{
 "cells": [
  {
   "cell_type": "code",
   "execution_count": 1,
   "id": "29bc917f-b6cc-48b4-bdce-e135b178714b",
   "metadata": {},
   "outputs": [],
   "source": [
    "from parser import Parser\n",
    "from tokenizer import Tokenize\n",
    "from generator import Generate\n"
   ]
  },
  {
   "cell_type": "code",
   "execution_count": 2,
   "id": "9c373493-66d1-4120-a5ca-aede96bece9c",
   "metadata": {},
   "outputs": [
    {
     "name": "stdout",
     "output_type": "stream",
     "text": [
      "f = lambda x: x + 1\n"
     ]
    }
   ],
   "source": [
    "code = 'f := Lx.(x + 1)'\n",
    "\n",
    "tokens = Tokenize(code)\n",
    "parser = Parser(tokens)\n",
    "ast = parser.parse()\n",
    "py_code = Generate(ast)\n",
    "\n",
    "print(py_code)  # Output: f = lambda x: x + 1"
   ]
  },
  {
   "cell_type": "code",
   "execution_count": null,
   "id": "d4b380bc-4100-442a-85ff-27b5dfa3ac50",
   "metadata": {},
   "outputs": [],
   "source": []
  },
  {
   "cell_type": "code",
   "execution_count": null,
   "id": "590570c8-9bf0-4773-8439-bcf9619002d5",
   "metadata": {},
   "outputs": [],
   "source": []
  }
 ],
 "metadata": {
  "kernelspec": {
   "display_name": "Python 3 (ipykernel)",
   "language": "python",
   "name": "python3"
  },
  "language_info": {
   "codemirror_mode": {
    "name": "ipython",
    "version": 3
   },
   "file_extension": ".py",
   "mimetype": "text/x-python",
   "name": "python",
   "nbconvert_exporter": "python",
   "pygments_lexer": "ipython3",
   "version": "3.12.2"
  }
 },
 "nbformat": 4,
 "nbformat_minor": 5
}
