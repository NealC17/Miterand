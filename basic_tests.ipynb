{
 "cells": [
  {
   "cell_type": "code",
   "execution_count": 18,
   "id": "29bc917f-b6cc-48b4-bdce-e135b178714b",
   "metadata": {
    "ExecuteTime": {
     "end_time": "2025-04-28T02:43:51.099904Z",
     "start_time": "2025-04-28T02:43:51.095772Z"
    }
   },
   "outputs": [],
   "source": [
    "from interpreter import interpret"
   ]
  },
  {
   "cell_type": "code",
   "execution_count": 19,
   "id": "e9a62c2667545a19",
   "metadata": {
    "ExecuteTime": {
     "end_time": "2025-04-28T02:43:51.361729Z",
     "start_time": "2025-04-28T02:43:51.360212Z"
    }
   },
   "outputs": [
    {
     "data": {
      "text/plain": [
       "'>>> >>> 4\\n>>> '"
      ]
     },
     "execution_count": 19,
     "metadata": {},
     "output_type": "execute_result"
    }
   ],
   "source": [
    "code = 'f := Lx.(x + 1)\\ng := Lx.(x + 2)\\ng(f(1))'\n",
    "interpret(code)"
   ]
  },
  {
   "cell_type": "code",
   "execution_count": 20,
   "id": "278bada7-feaf-44bf-8a07-5f03dfd283e5",
   "metadata": {},
   "outputs": [
    {
     "name": "stdout",
     "output_type": "stream",
     "text": [
      ">>> 6\n",
      ">>> \n"
     ]
    }
   ],
   "source": [
    "#add(x)(y)\n",
    "code = '''\n",
    "add := Lx.Ly.(x + y)\n",
    "add(1)(add(2)(3))\n",
    "'''\n",
    "print(interpret(code))\n"
   ]
  },
  {
   "cell_type": "code",
   "execution_count": 21,
   "id": "3948b6f0-641a-4c02-a8a9-8a7f988f25b8",
   "metadata": {},
   "outputs": [
    {
     "name": "stdout",
     "output_type": "stream",
     "text": [
      ">>> >>> >>> 1\n",
      ">>> 2\n",
      ">>> \n"
     ]
    }
   ],
   "source": [
    "code = '''\n",
    "TRUE := Lx.Ly.x\n",
    "FALSE := Lx.Ly.y\n",
    "IF := Lc.La.Lb.(c a b)\n",
    "IF TRUE 1 2\n",
    "IF FALSE 1 2\n",
    "'''\n",
    "print(interpret(code))"
   ]
  },
  {
   "cell_type": "code",
   "execution_count": 22,
   "id": "1ca60665-38c7-445e-8d0a-7e3c7eacaca3",
   "metadata": {},
   "outputs": [
    {
     "name": "stdout",
     "output_type": "stream",
     "text": [
      ">>> >>> >>> 1\n",
      ">>> \n"
     ]
    }
   ],
   "source": [
    "code = '''\n",
    "TRUE := Lx.Ly.x\n",
    "FALSE := Lx.Ly.y\n",
    "IF := Lc.La.Lb.(c a b)\n",
    "IF TRUE 1 2\n",
    "'''\n",
    "print(interpret(code))"
   ]
  },
  {
   "cell_type": "code",
   "execution_count": null,
   "id": "e36edb75-8178-498c-b925-2087808c6788",
   "metadata": {},
   "outputs": [],
   "source": []
  },
  {
   "cell_type": "code",
   "execution_count": null,
   "id": "0de4a0be-18a9-40e7-a598-5490b8bb58d9",
   "metadata": {},
   "outputs": [],
   "source": []
  }
 ],
 "metadata": {
  "kernelspec": {
   "display_name": "Python 3 (ipykernel)",
   "language": "python",
   "name": "python3"
  },
  "language_info": {
   "codemirror_mode": {
    "name": "ipython",
    "version": 3
   },
   "file_extension": ".py",
   "mimetype": "text/x-python",
   "name": "python",
   "nbconvert_exporter": "python",
   "pygments_lexer": "ipython3",
   "version": "3.12.2"
  }
 },
 "nbformat": 4,
 "nbformat_minor": 5
}
